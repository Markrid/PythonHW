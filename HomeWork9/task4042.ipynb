{
 "cells": [
  {
   "cell_type": "code",
   "execution_count": 1,
   "metadata": {},
   "outputs": [],
   "source": [
    "import pandas\n",
    "hw = pandas.read_csv('sample_data/california_housing_train.csv')"
   ]
  },
  {
   "cell_type": "code",
   "execution_count": 2,
   "metadata": {},
   "outputs": [
    {
     "name": "stdout",
     "output_type": "stream",
     "text": [
      "Средняя стоимость дома по заданным условиям: 206683.83635227982\n"
     ]
    }
   ],
   "source": [
    "temp = hw[(hw['population'] > 0) & (hw['population'] < 500)]\n",
    "print(f\"Средняя стоимость дома по заданным условиям: {temp['median_house_value'].mean()}\")"
   ]
  },
  {
   "cell_type": "code",
   "execution_count": 3,
   "metadata": {},
   "outputs": [
    {
     "name": "stdout",
     "output_type": "stream",
     "text": [
      "Максимальная households : 4.0\n"
     ]
    }
   ],
   "source": [
    "hh = hw[hw[\"population\"] == hw[\"population\"].min()]\n",
    "print(f\"Максимальная households : {hh['households'].max()}\")"
   ]
  }
 ],
 "metadata": {
  "kernelspec": {
   "display_name": "Python 3",
   "language": "python",
   "name": "python3"
  },
  "language_info": {
   "codemirror_mode": {
    "name": "ipython",
    "version": 3
   },
   "file_extension": ".py",
   "mimetype": "text/x-python",
   "name": "python",
   "nbconvert_exporter": "python",
   "pygments_lexer": "ipython3",
   "version": "3.10.11"
  },
  "orig_nbformat": 4
 },
 "nbformat": 4,
 "nbformat_minor": 2
}
